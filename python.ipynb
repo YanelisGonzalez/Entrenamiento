{
 "cells": [
  {
   "cell_type": "code",
   "execution_count": 1,
   "metadata": {},
   "outputs": [],
   "source": [
    "ingresos = 1000\n",
    "gastos = 400 "
   ]
  },
  {
   "cell_type": "code",
   "execution_count": 6,
   "metadata": {},
   "outputs": [
    {
     "data": {
      "text/plain": [
       "1000"
      ]
     },
     "execution_count": 6,
     "metadata": {},
     "output_type": "execute_result"
    }
   ],
   "source": [
    "ingresos"
   ]
  },
  {
   "cell_type": "code",
   "execution_count": 7,
   "metadata": {},
   "outputs": [
    {
     "data": {
      "text/plain": [
       "400"
      ]
     },
     "execution_count": 7,
     "metadata": {},
     "output_type": "execute_result"
    }
   ],
   "source": [
    "ingresos\n",
    "gastos"
   ]
  },
  {
   "cell_type": "code",
   "execution_count": 8,
   "metadata": {},
   "outputs": [
    {
     "name": "stdout",
     "output_type": "stream",
     "text": [
      "1000\n",
      "400\n"
     ]
    }
   ],
   "source": [
    "print(ingresos)\n",
    "print(gastos)"
   ]
  },
  {
   "cell_type": "code",
   "execution_count": 10,
   "metadata": {},
   "outputs": [],
   "source": [
    "margen = ingresos - gastos"
   ]
  },
  {
   "cell_type": "code",
   "execution_count": 11,
   "metadata": {},
   "outputs": [
    {
     "data": {
      "text/plain": [
       "600"
      ]
     },
     "execution_count": 11,
     "metadata": {},
     "output_type": "execute_result"
    }
   ],
   "source": [
    "margen"
   ]
  },
  {
   "cell_type": "code",
   "execution_count": 12,
   "metadata": {},
   "outputs": [
    {
     "name": "stdout",
     "output_type": "stream",
     "text": [
      "600\n"
     ]
    }
   ],
   "source": [
    "print(margen)"
   ]
  },
  {
   "cell_type": "code",
   "execution_count": 14,
   "metadata": {},
   "outputs": [
    {
     "name": "stdout",
     "output_type": "stream",
     "text": [
      "Los ingresos han sido altos\n",
      "Los ingresos han sido altos\n"
     ]
    }
   ],
   "source": [
    "ingresos_text = \"Los ingresos han sido altos\"\n",
    "ingresos_alt = 'Los ingresos han sido altos'\n",
    "print(ingresos_text)\n",
    "print(ingresos_alt)"
   ]
  },
  {
   "cell_type": "code",
   "execution_count": 15,
   "metadata": {},
   "outputs": [
    {
     "data": {
      "text/plain": [
       "\"Los 'ingresos' han sido altos\""
      ]
     },
     "execution_count": 15,
     "metadata": {},
     "output_type": "execute_result"
    }
   ],
   "source": [
    "ingresos_text = \"Los 'ingresos' han sido altos\"\n",
    "ingresos_text"
   ]
  },
  {
   "cell_type": "code",
   "execution_count": 17,
   "metadata": {},
   "outputs": [
    {
     "ename": "SyntaxError",
     "evalue": "invalid syntax (3969662993.py, line 1)",
     "output_type": "error",
     "traceback": [
      "\u001b[1;36m  Cell \u001b[1;32mIn[17], line 1\u001b[1;36m\u001b[0m\n\u001b[1;33m    ingresos_text = \"Los \"ingresos\" han sido altos\"\u001b[0m\n\u001b[1;37m                          ^\u001b[0m\n\u001b[1;31mSyntaxError\u001b[0m\u001b[1;31m:\u001b[0m invalid syntax\n"
     ]
    }
   ],
   "source": [
    "ingresos_text = \"Los \"ingresos\" han sido altos\""
   ]
  },
  {
   "cell_type": "code",
   "execution_count": 19,
   "metadata": {},
   "outputs": [
    {
     "name": "stdout",
     "output_type": "stream",
     "text": [
      "['False', 'None', 'True', 'and', 'as', 'assert', 'async', 'await', 'break', 'class', 'continue', 'def', 'del', 'elif', 'else', 'except', 'finally', 'for', 'from', 'global', 'if', 'import', 'in', 'is', 'lambda', 'nonlocal', 'not', 'or', 'pass', 'raise', 'return', 'try', 'while', 'with', 'yield']\n"
     ]
    }
   ],
   "source": [
    "import keyword\n",
    "print(keyword.kwlist)\n",
    "# lista de palabras reservadas"
   ]
  },
  {
   "cell_type": "code",
   "execution_count": 20,
   "metadata": {},
   "outputs": [],
   "source": [
    "ingresos = 1000\n",
    "gastos = 100\n",
    "beneficios = ingresos - gastos"
   ]
  },
  {
   "cell_type": "code",
   "execution_count": 21,
   "metadata": {},
   "outputs": [
    {
     "name": "stdout",
     "output_type": "stream",
     "text": [
      "1000\n",
      "100\n",
      "Los beneficios han sido de :\n",
      "900\n"
     ]
    }
   ],
   "source": [
    "print(ingresos)\n",
    "print(gastos)\n",
    "print(\"Los beneficios han sido de :\")\n",
    "print(beneficios)"
   ]
  },
  {
   "cell_type": "code",
   "execution_count": 23,
   "metadata": {},
   "outputs": [
    {
     "name": "stdout",
     "output_type": "stream",
     "text": [
      "Los beneficios de junio han sido 900 millones\n"
     ]
    }
   ],
   "source": [
    "mes = \"junio\"\n",
    "print(\"Los beneficios de %s han sido %s millones\" %(mes, beneficios))"
   ]
  },
  {
   "cell_type": "code",
   "execution_count": 24,
   "metadata": {},
   "outputs": [
    {
     "name": "stdout",
     "output_type": "stream",
     "text": [
      "Los beneficios  de 900 han sido junio millones\n"
     ]
    }
   ],
   "source": [
    "print(\"Los beneficios  de %s han sido %s millones\"%(beneficios, mes))"
   ]
  },
  {
   "cell_type": "code",
   "execution_count": 27,
   "metadata": {},
   "outputs": [
    {
     "name": "stdout",
     "output_type": "stream",
     "text": [
      "Los beneficios de agosto han sido 900 millones\n"
     ]
    }
   ],
   "source": [
    "mes = \"agosto\"\n",
    "print( \"Los beneficios de\", mes, \"han sido\", beneficios, \"millones\")"
   ]
  },
  {
   "cell_type": "code",
   "execution_count": 29,
   "metadata": {},
   "outputs": [
    {
     "ename": "NameError",
     "evalue": "name 'ventas_junio' is not defined",
     "output_type": "error",
     "traceback": [
      "\u001b[1;31m---------------------------------------------------------------------------\u001b[0m",
      "\u001b[1;31mNameError\u001b[0m                                 Traceback (most recent call last)",
      "Cell \u001b[1;32mIn[29], line 1\u001b[0m\n\u001b[1;32m----> 1\u001b[0m ventas_junio_julio \u001b[38;5;241m=\u001b[39m \u001b[43mventas_junio\u001b[49m \u001b[38;5;241m+\u001b[39m ventas_julio\n\u001b[0;32m      2\u001b[0m ventas_junio \u001b[38;5;241m=\u001b[39m \u001b[38;5;241m100\u001b[39m\n\u001b[0;32m      3\u001b[0m ventas_julio \u001b[38;5;241m=\u001b[39m \u001b[38;5;241m150\u001b[39m\n",
      "\u001b[1;31mNameError\u001b[0m: name 'ventas_junio' is not defined"
     ]
    }
   ],
   "source": [
    "ventas_junio_julio = ventas_junio + ventas_julio\n",
    "ventas_junio = 100\n",
    "ventas_julio = 150"
   ]
  },
  {
   "cell_type": "code",
   "execution_count": 30,
   "metadata": {},
   "outputs": [
    {
     "ename": "NameError",
     "evalue": "name 'ventas_junio' is not defined",
     "output_type": "error",
     "traceback": [
      "\u001b[1;31m---------------------------------------------------------------------------\u001b[0m",
      "\u001b[1;31mNameError\u001b[0m                                 Traceback (most recent call last)",
      "Cell \u001b[1;32mIn[30], line 1\u001b[0m\n\u001b[1;32m----> 1\u001b[0m \u001b[43mventas_junio\u001b[49m\n",
      "\u001b[1;31mNameError\u001b[0m: name 'ventas_junio' is not defined"
     ]
    }
   ],
   "source": [
    "ventas_junio"
   ]
  },
  {
   "cell_type": "code",
   "execution_count": 32,
   "metadata": {},
   "outputs": [
    {
     "name": "stdout",
     "output_type": "stream",
     "text": [
      "las ventas de junio a julio son 250\n"
     ]
    }
   ],
   "source": [
    "ventas_junio = 100\n",
    "ventas_julio = 150\n",
    "ventas_junio_julio = ventas_junio + ventas_julio\n",
    "print(\"las ventas de junio a julio son\", ventas_junio_julio)"
   ]
  },
  {
   "cell_type": "code",
   "execution_count": 33,
   "metadata": {},
   "outputs": [
    {
     "name": "stdout",
     "output_type": "stream",
     "text": [
      "1.8 75\n"
     ]
    }
   ],
   "source": [
    "altura = 1.80 ; peso = 75\n",
    "print(altura, peso)"
   ]
  },
  {
   "cell_type": "code",
   "execution_count": 36,
   "metadata": {},
   "outputs": [],
   "source": [
    "x,y,z = 12,23,45"
   ]
  },
  {
   "cell_type": "code",
   "execution_count": 37,
   "metadata": {},
   "outputs": [
    {
     "name": "stdout",
     "output_type": "stream",
     "text": [
      "12 23 45\n"
     ]
    }
   ],
   "source": [
    "print(x,y,z)"
   ]
  },
  {
   "cell_type": "code",
   "execution_count": 39,
   "metadata": {},
   "outputs": [],
   "source": [
    "x = 12\n",
    "y = 23\n",
    "z = 45"
   ]
  },
  {
   "cell_type": "code",
   "execution_count": 40,
   "metadata": {},
   "outputs": [
    {
     "name": "stdout",
     "output_type": "stream",
     "text": [
      "12 23 45\n"
     ]
    }
   ],
   "source": [
    "print(x,y,z)"
   ]
  },
  {
   "cell_type": "code",
   "execution_count": 42,
   "metadata": {},
   "outputs": [
    {
     "ename": "NameError",
     "evalue": "name 'altura' is not defined",
     "output_type": "error",
     "traceback": [
      "\u001b[1;31m---------------------------------------------------------------------------\u001b[0m",
      "\u001b[1;31mNameError\u001b[0m                                 Traceback (most recent call last)",
      "Cell \u001b[1;32mIn[42], line 3\u001b[0m\n\u001b[0;32m      1\u001b[0m altura \u001b[38;5;241m=\u001b[39m \u001b[38;5;241m1.85\u001b[39m\n\u001b[0;32m      2\u001b[0m \u001b[38;5;28;01mdel\u001b[39;00m altura \u001b[38;5;66;03m# borrar variable\u001b[39;00m\n\u001b[1;32m----> 3\u001b[0m \u001b[38;5;28mprint\u001b[39m(\u001b[43maltura\u001b[49m)\n",
      "\u001b[1;31mNameError\u001b[0m: name 'altura' is not defined"
     ]
    }
   ],
   "source": [
    "altura = 1.85\n",
    "del altura # borrar variable\n",
    "print(altura)"
   ]
  },
  {
   "cell_type": "code",
   "execution_count": 43,
   "metadata": {},
   "outputs": [
    {
     "data": {
      "text/plain": [
       "int"
      ]
     },
     "execution_count": 43,
     "metadata": {},
     "output_type": "execute_result"
    }
   ],
   "source": [
    "numero = 22\n",
    "type(numero)"
   ]
  },
  {
   "cell_type": "code",
   "execution_count": 45,
   "metadata": {},
   "outputs": [
    {
     "name": "stdout",
     "output_type": "stream",
     "text": [
      "<class 'float'>\n"
     ]
    }
   ],
   "source": [
    "numero_real = 22.0\n",
    "print(type(numero_real))"
   ]
  },
  {
   "cell_type": "code",
   "execution_count": 48,
   "metadata": {},
   "outputs": [
    {
     "data": {
      "text/plain": [
       "float"
      ]
     },
     "execution_count": 48,
     "metadata": {},
     "output_type": "execute_result"
    }
   ],
   "source": [
    "numero_real_decimales = 22.4513\n",
    "type(numero_real_decimales)"
   ]
  },
  {
   "cell_type": "code",
   "execution_count": 50,
   "metadata": {},
   "outputs": [
    {
     "name": "stdout",
     "output_type": "stream",
     "text": [
      "sumas y restas\n",
      "3\n",
      "3.0\n",
      "-1.0\n"
     ]
    }
   ],
   "source": [
    "print(\"sumas y restas\")\n",
    "print(1 + 2)\n",
    "print(1.0 +2)\n",
    "print(1.0 -2)"
   ]
  },
  {
   "cell_type": "code",
   "execution_count": 51,
   "metadata": {},
   "outputs": [
    {
     "name": "stdout",
     "output_type": "stream",
     "text": [
      "multiplicaciones y divisiones\n",
      "4\n",
      "4.0\n",
      "1.0\n"
     ]
    }
   ],
   "source": [
    "print(\"multiplicaciones y divisiones\")\n",
    "print(2*2)\n",
    "print(2.0*2)\n",
    "print(2/2)"
   ]
  },
  {
   "cell_type": "code",
   "execution_count": 52,
   "metadata": {},
   "outputs": [
    {
     "name": "stdout",
     "output_type": "stream",
     "text": [
      "resto y cociente\n",
      "3.3333333333333335\n",
      "3\n",
      "1\n",
      "3\n"
     ]
    }
   ],
   "source": [
    "print(\"resto y cociente\")\n",
    "print(10/3)\n",
    "print(int(10/3))\n",
    "print( 10 % 3)\n",
    "print(10//3)"
   ]
  },
  {
   "cell_type": "code",
   "execution_count": 55,
   "metadata": {},
   "outputs": [
    {
     "name": "stdout",
     "output_type": "stream",
     "text": [
      "¿Es 23 par?\n",
      "El resto es  1\n",
      "Es impar\n"
     ]
    }
   ],
   "source": [
    "n = 23\n",
    "print(\"¿Es\", n, \"par?\")\n",
    "resto = n % 2\n",
    "print(\"El resto es \", resto)\n",
    "if resto == 0:\n",
    "    print(\"Es par\")\n",
    "else:\n",
    "    print(\"Es impar\")\n"
   ]
  },
  {
   "cell_type": "code",
   "execution_count": 58,
   "metadata": {},
   "outputs": [
    {
     "name": "stdout",
     "output_type": "stream",
     "text": [
      "primera línea\n",
      "segunda línea\n",
      "\tercera línea tabulada\n"
     ]
    }
   ],
   "source": [
    "print(\"primera línea\\nsegunda línea\\n\\tercera línea tabulada\")"
   ]
  },
  {
   "cell_type": "code",
   "execution_count": 60,
   "metadata": {},
   "outputs": [
    {
     "name": "stdout",
     "output_type": "stream",
     "text": [
      "primera línea\n",
      "segunda línea\n",
      "\tercera línea, tabulada\n"
     ]
    }
   ],
   "source": [
    "mi_string = \"primera línea\\nsegunda línea\\n\\tercera línea, tabulada\"\n",
    "print(mi_string)"
   ]
  },
  {
   "cell_type": "code",
   "execution_count": 64,
   "metadata": {},
   "outputs": [
    {
     "name": "stdout",
     "output_type": "stream",
     "text": [
      "Antonia Scott\n"
     ]
    }
   ],
   "source": [
    "nombre = \"Antonia\"\n",
    "apellido = \"Scott\"\n",
    "\n",
    "nombre_apellido = nombre + \" \" + apellido\n",
    "print(nombre_apellido)"
   ]
  },
  {
   "cell_type": "code",
   "execution_count": 66,
   "metadata": {},
   "outputs": [
    {
     "ename": "TypeError",
     "evalue": "can only concatenate str (not \"int\") to str",
     "output_type": "error",
     "traceback": [
      "\u001b[1;31m---------------------------------------------------------------------------\u001b[0m",
      "\u001b[1;31mTypeError\u001b[0m                                 Traceback (most recent call last)",
      "Cell \u001b[1;32mIn[66], line 3\u001b[0m\n\u001b[0;32m      1\u001b[0m esto_es_una_prueba \u001b[38;5;241m=\u001b[39m \u001b[38;5;124m\"\u001b[39m\u001b[38;5;124mpues eso, que estamos jugando\u001b[39m\u001b[38;5;124m\"\u001b[39m\n\u001b[0;32m      2\u001b[0m un_entero \u001b[38;5;241m=\u001b[39m \u001b[38;5;241m100\u001b[39m\n\u001b[1;32m----> 3\u001b[0m \u001b[38;5;28mprint\u001b[39m(\u001b[43mesto_es_una_prueba\u001b[49m\u001b[43m \u001b[49m\u001b[38;5;241;43m+\u001b[39;49m\u001b[43m \u001b[49m\u001b[43mun_entero\u001b[49m)\n\u001b[0;32m      4\u001b[0m \u001b[38;5;66;03m#Esto da error porque no se puede concatenar un string con numeros\u001b[39;00m\n",
      "\u001b[1;31mTypeError\u001b[0m: can only concatenate str (not \"int\") to str"
     ]
    }
   ],
   "source": [
    "esto_es_una_prueba = \"pues eso, que estamos jugando\"\n",
    "un_entero = 100\n",
    "print(esto_es_una_prueba + un_entero)\n",
    "#Esto da error porque no se puede concatenar un string con numeros"
   ]
  },
  {
   "cell_type": "code",
   "execution_count": 67,
   "metadata": {},
   "outputs": [
    {
     "data": {
      "text/plain": [
       "True"
      ]
     },
     "execution_count": 67,
     "metadata": {},
     "output_type": "execute_result"
    }
   ],
   "source": [
    "True"
   ]
  },
  {
   "cell_type": "code",
   "execution_count": 68,
   "metadata": {},
   "outputs": [
    {
     "name": "stdout",
     "output_type": "stream",
     "text": [
      "<class 'bool'>\n"
     ]
    }
   ],
   "source": [
    "ya_se_de_python = False\n",
    "print(type(ya_se_de_python))\n"
   ]
  },
  {
   "cell_type": "code",
   "execution_count": 69,
   "metadata": {},
   "outputs": [
    {
     "data": {
      "text/plain": [
       "False"
      ]
     },
     "execution_count": 69,
     "metadata": {},
     "output_type": "execute_result"
    }
   ],
   "source": [
    "dinerito = 5\n",
    "dinerito >= 15"
   ]
  },
  {
   "cell_type": "code",
   "execution_count": 70,
   "metadata": {},
   "outputs": [
    {
     "name": "stdout",
     "output_type": "stream",
     "text": [
      "True\n",
      "<class 'bool'>\n"
     ]
    }
   ],
   "source": [
    "dinerito = 15\n",
    "cond_1 = dinerito >= 15\n",
    "print(cond_1)\n",
    "print(type(cond_1))"
   ]
  },
  {
   "cell_type": "code",
   "execution_count": 71,
   "metadata": {},
   "outputs": [
    {
     "name": "stdout",
     "output_type": "stream",
     "text": [
      "<class 'float'>\n"
     ]
    }
   ],
   "source": [
    "print(type(1.0))"
   ]
  },
  {
   "cell_type": "code",
   "execution_count": 73,
   "metadata": {},
   "outputs": [
    {
     "name": "stdout",
     "output_type": "stream",
     "text": [
      "<class 'int'>\n"
     ]
    }
   ],
   "source": [
    "print(type(-74))"
   ]
  },
  {
   "cell_type": "code",
   "execution_count": 74,
   "metadata": {},
   "outputs": [
    {
     "name": "stdout",
     "output_type": "stream",
     "text": [
      "<class 'str'>\n"
     ]
    }
   ],
   "source": [
    "print(type(\"3.45\"))"
   ]
  },
  {
   "cell_type": "code",
   "execution_count": 1,
   "metadata": {},
   "outputs": [
    {
     "name": "stdout",
     "output_type": "stream",
     "text": [
      "<class 'bool'>\n"
     ]
    }
   ],
   "source": [
    "print(type(True))"
   ]
  },
  {
   "cell_type": "code",
   "execution_count": 2,
   "metadata": {},
   "outputs": [
    {
     "name": "stdout",
     "output_type": "stream",
     "text": [
      "<class 'float'>\n"
     ]
    }
   ],
   "source": [
    "num_real = 24.69\n",
    "print(type(num_real))"
   ]
  },
  {
   "cell_type": "code",
   "execution_count": 5,
   "metadata": {},
   "outputs": [
    {
     "name": "stdout",
     "output_type": "stream",
     "text": [
      "24\n",
      "<class 'int'>\n"
     ]
    }
   ],
   "source": [
    "num_entero = int(num_real)\n",
    "print(num_entero)\n",
    "print(type(num_entero))"
   ]
  },
  {
   "cell_type": "code",
   "execution_count": 6,
   "metadata": {},
   "outputs": [
    {
     "name": "stdout",
     "output_type": "stream",
     "text": [
      "24.69\n"
     ]
    }
   ],
   "source": [
    "num_real = 24.686\n",
    "num_redondeado = round(num_real, 2)\n",
    "print(num_redondeado)"
   ]
  },
  {
   "cell_type": "code",
   "execution_count": 7,
   "metadata": {},
   "outputs": [
    {
     "name": "stdout",
     "output_type": "stream",
     "text": [
      "25.0 <class 'float'>\n"
     ]
    }
   ],
   "source": [
    "num_redondeado = 24.69\n",
    "numero_convertido = round(num_redondeado, 0)\n",
    "print(numero_convertido, type(numero_convertido))"
   ]
  },
  {
   "cell_type": "code",
   "execution_count": 9,
   "metadata": {},
   "outputs": [
    {
     "name": "stdout",
     "output_type": "stream",
     "text": [
      "25\n"
     ]
    }
   ],
   "source": [
    "print(int(numero_convertido))"
   ]
  },
  {
   "cell_type": "code",
   "execution_count": 12,
   "metadata": {},
   "outputs": [
    {
     "name": "stdout",
     "output_type": "stream",
     "text": [
      "24.69 <class 'str'>\n",
      "12 <class 'str'>\n"
     ]
    }
   ],
   "source": [
    "numero_real = 24.69\n",
    "num_entero = 12\n",
    "\n",
    "real_str = str(numero_real)\n",
    "entero_str = str(num_entero)\n",
    "\n",
    "print(real_str, type(real_str))\n",
    "print(entero_str, type(entero_str))\n"
   ]
  },
  {
   "cell_type": "code",
   "execution_count": 15,
   "metadata": {},
   "outputs": [
    {
     "name": "stdout",
     "output_type": "stream",
     "text": [
      "<class 'str'>\n",
      "98\n",
      "<class 'int'>\n"
     ]
    }
   ],
   "source": [
    "mi_cadena = \"98\"\n",
    "mi_entero = int(mi_cadena)\n",
    "print(type(mi_cadena))\n",
    "print(mi_entero)\n",
    "print(type(mi_entero))"
   ]
  },
  {
   "cell_type": "code",
   "execution_count": 16,
   "metadata": {},
   "outputs": [
    {
     "ename": "ValueError",
     "evalue": "could not convert string to float: '98,33'",
     "output_type": "error",
     "traceback": [
      "\u001b[1;31m---------------------------------------------------------------------------\u001b[0m",
      "\u001b[1;31mValueError\u001b[0m                                Traceback (most recent call last)",
      "Cell \u001b[1;32mIn[16], line 2\u001b[0m\n\u001b[0;32m      1\u001b[0m mi_cadena_real \u001b[38;5;241m=\u001b[39m \u001b[38;5;124m\"\u001b[39m\u001b[38;5;124m98,33\u001b[39m\u001b[38;5;124m\"\u001b[39m\n\u001b[1;32m----> 2\u001b[0m mi_real \u001b[38;5;241m=\u001b[39m \u001b[38;5;28;43mfloat\u001b[39;49m\u001b[43m(\u001b[49m\u001b[43mmi_cadena_real\u001b[49m\u001b[43m)\u001b[49m\n\u001b[0;32m      3\u001b[0m \u001b[38;5;28mprint\u001b[39m(mi_real)\n",
      "\u001b[1;31mValueError\u001b[0m: could not convert string to float: '98,33'"
     ]
    }
   ],
   "source": [
    "mi_cadena_real = \"98,33\"\n",
    "mi_real = float(mi_cadena_real)\n",
    "print(mi_real)"
   ]
  },
  {
   "cell_type": "code",
   "execution_count": 29,
   "metadata": {},
   "outputs": [
    {
     "name": "stdout",
     "output_type": "stream",
     "text": [
      "<class 'str'>\n",
      "98.33\n",
      "<class 'float'>\n"
     ]
    }
   ],
   "source": [
    "mi_cadena_real = \"98.33\"\n",
    "mi_real = float(mi_cadena_real)\n",
    "print(type(mi_cadena_real))\n",
    "print(mi_real)\n",
    "print(type(mi_real))"
   ]
  },
  {
   "cell_type": "code",
   "execution_count": 31,
   "metadata": {},
   "outputs": [
    {
     "ename": "ValueError",
     "evalue": "could not convert string to float: '68,34'",
     "output_type": "error",
     "traceback": [
      "\u001b[1;31m---------------------------------------------------------------------------\u001b[0m",
      "\u001b[1;31mValueError\u001b[0m                                Traceback (most recent call last)",
      "Cell \u001b[1;32mIn[31], line 2\u001b[0m\n\u001b[0;32m      1\u001b[0m real_str \u001b[38;5;241m=\u001b[39m \u001b[38;5;124m\"\u001b[39m\u001b[38;5;124m68,34\u001b[39m\u001b[38;5;124m\"\u001b[39m\n\u001b[1;32m----> 2\u001b[0m real \u001b[38;5;241m=\u001b[39m \u001b[38;5;28;43mfloat\u001b[39;49m\u001b[43m(\u001b[49m\u001b[43mreal_str\u001b[49m\u001b[43m)\u001b[49m\n",
      "\u001b[1;31mValueError\u001b[0m: could not convert string to float: '68,34'"
     ]
    }
   ],
   "source": [
    "real_str = \"68,34\"\n",
    "real = float(real_str)"
   ]
  },
  {
   "cell_type": "code",
   "execution_count": null,
   "metadata": {},
   "outputs": [
    {
     "data": {
      "text/plain": [
       "'68.34'"
      ]
     },
     "execution_count": 34,
     "metadata": {},
     "output_type": "execute_result"
    }
   ],
   "source": [
    "#apilicamos la función replace para transformar un str a un float\n",
    "#en principio te va a devolver un string\n",
    "real_str.replace(\",\",\".\")"
   ]
  },
  {
   "cell_type": "code",
   "execution_count": null,
   "metadata": {},
   "outputs": [
    {
     "name": "stdout",
     "output_type": "stream",
     "text": [
      "68.34 <class 'str'>\n"
     ]
    }
   ],
   "source": [
    "#lo guardamos en una variable el str\n",
    "nuevo_str = real_str.replace(\",\", \".\")\n",
    "print(nuevo_str, type(nuevo_str))"
   ]
  },
  {
   "cell_type": "code",
   "execution_count": 41,
   "metadata": {},
   "outputs": [
    {
     "name": "stdout",
     "output_type": "stream",
     "text": [
      "68.34 <class 'float'>\n"
     ]
    }
   ],
   "source": [
    "#convertimos el str en un float\n",
    "real = float(nuevo_str)\n",
    "print(real, type(real))"
   ]
  },
  {
   "cell_type": "code",
   "execution_count": 43,
   "metadata": {},
   "outputs": [],
   "source": [
    "#sentencia input\n",
    "primer_input = input(\"escribir algo\")"
   ]
  },
  {
   "cell_type": "code",
   "execution_count": 46,
   "metadata": {},
   "outputs": [
    {
     "name": "stdout",
     "output_type": "stream",
     "text": [
      "b <class 'str'>\n"
     ]
    }
   ],
   "source": [
    "print(primer_input, type(primer_input))"
   ]
  },
  {
   "cell_type": "code",
   "execution_count": 48,
   "metadata": {},
   "outputs": [
    {
     "name": "stdout",
     "output_type": "stream",
     "text": [
      "Encantado de conocerte Juan\n"
     ]
    }
   ],
   "source": [
    "nombre = input(\"Como te llamas\")\n",
    "print(\"Encantado de conocerte\", nombre)"
   ]
  },
  {
   "cell_type": "code",
   "execution_count": 21,
   "metadata": {},
   "outputs": [
    {
     "name": "stdout",
     "output_type": "stream",
     "text": [
      "True <class 'bool'>\n"
     ]
    }
   ],
   "source": [
    "booleano = bool(123)\n",
    "print(booleano, type(booleano))"
   ]
  },
  {
   "cell_type": "code",
   "execution_count": 23,
   "metadata": {},
   "outputs": [
    {
     "name": "stdout",
     "output_type": "stream",
     "text": [
      "False <class 'bool'>\n"
     ]
    }
   ],
   "source": [
    "booleano = bool(0)\n",
    "print(booleano, type(booleano))"
   ]
  },
  {
   "cell_type": "code",
   "execution_count": 25,
   "metadata": {},
   "outputs": [
    {
     "name": "stdout",
     "output_type": "stream",
     "text": [
      "False <class 'bool'>\n",
      "True <class 'bool'>\n"
     ]
    }
   ],
   "source": [
    "booleano = bool(\"\")\n",
    "booleano_2 = bool(\"Esto es otro tipo de booleano\")\n",
    "print(booleano, type(booleano))\n",
    "print(booleano_2, type(booleano_2))"
   ]
  },
  {
   "cell_type": "code",
   "execution_count": 28,
   "metadata": {},
   "outputs": [
    {
     "name": "stdout",
     "output_type": "stream",
     "text": [
      "False <class 'str'>\n",
      "True <class 'str'>\n"
     ]
    }
   ],
   "source": [
    "bool_string =str(booleano)\n",
    "bool_2_string = str(booleano_2)\n",
    "print(bool_string, type(bool_string))\n",
    "print(bool_2_string, type(bool_2_string))"
   ]
  },
  {
   "cell_type": "code",
   "execution_count": 54,
   "metadata": {},
   "outputs": [],
   "source": [
    "#Zen de python (20 principios de python)\n",
    "\n",
    "import this"
   ]
  },
  {
   "cell_type": "markdown",
   "metadata": {},
   "source": [
    "# Operaciones Aritmética"
   ]
  },
  {
   "cell_type": "code",
   "execution_count": null,
   "metadata": {},
   "outputs": [],
   "source": [
    "### Sumar: +\n",
    "### Restar: -\n",
    "### Multiplicar: *\n",
    "### Dividir: /\n",
    "### Elevar: **\n",
    "### Cociente división: %"
   ]
  },
  {
   "cell_type": "code",
   "execution_count": 60,
   "metadata": {},
   "outputs": [
    {
     "name": "stdout",
     "output_type": "stream",
     "text": [
      "12.2\n",
      "<class 'float'>\n",
      "37.2\n",
      "66763.29344804682\n",
      "0.9677419354838709\n",
      "0.0\n",
      "6.0\n"
     ]
    }
   ],
   "source": [
    "# Ejercicio\n",
    "#Declarar y asignar una variable entera\n",
    "entero = 6\n",
    "#Declarar y asignar una variable real o float \n",
    "variable_f = 6.2\n",
    "#Sumar las variables y mostrar el resultado\n",
    "suma = entero + variable_f\n",
    "print(suma)\n",
    "#Mostrar de qué tipo es el resultado\n",
    "print(type(suma))\n",
    "#Multiplicar ambas variables y mostrar el resultado\n",
    "mult = entero * variable_f\n",
    "print(mult)\n",
    "#Elevar una a la otra\n",
    "elevar = entero ** variable_f\n",
    "print(elevar)\n",
    "#Dividir una por otra y mostrar el resto y el cociente\n",
    "div = entero / variable_f\n",
    "cociente = entero // variable_f\n",
    "resto = entero % variable_f\n",
    "print(div)\n",
    "print(cociente)\n",
    "print(resto)"
   ]
  },
  {
   "cell_type": "code",
   "execution_count": 61,
   "metadata": {},
   "outputs": [],
   "source": [
    "import math"
   ]
  },
  {
   "cell_type": "code",
   "execution_count": 63,
   "metadata": {},
   "outputs": [
    {
     "name": "stdout",
     "output_type": "stream",
     "text": [
      "5.0\n",
      "1.0\n",
      "123.45\n"
     ]
    }
   ],
   "source": [
    "print(math.sqrt(25))\n",
    "print(math.cos(0))\n",
    "print(math.fabs(-123.45)) #valor absoluto (abs)"
   ]
  },
  {
   "cell_type": "code",
   "execution_count": 67,
   "metadata": {},
   "outputs": [
    {
     "name": "stdout",
     "output_type": "stream",
     "text": [
      "STRING EN MINUSCULAS\n",
      "esto es un ejemplo diferente\n",
      "esto es un ejemplo diferente\n"
     ]
    }
   ],
   "source": [
    "#Funciones y métodos\n",
    "string_ejemplo = \"string en minusculas\"\n",
    "# Metodo para poner un string todo en mayúsculas\n",
    "print(string_ejemplo.upper())\n",
    "\n",
    "# Metodo para poner un string todo en minusculas\n",
    "print(\"ESTO ES UN EJEMPLO DIFERENTE\".lower())\n",
    "string_ejemplo_2 = \"ESTO ES UN EJEMPLO DIFERENTE\"\n",
    "print(string_ejemplo_2.lower())\n",
    "\n"
   ]
  },
  {
   "cell_type": "code",
   "execution_count": 70,
   "metadata": {},
   "outputs": [
    {
     "name": "stdout",
     "output_type": "stream",
     "text": [
      "ctring en minucculac\n"
     ]
    }
   ],
   "source": [
    "# Metodo para reemplacer un  caracter o varios\n",
    "print(string_ejemplo.replace(\"s\", \"c\"))"
   ]
  },
  {
   "cell_type": "code",
   "execution_count": 72,
   "metadata": {},
   "outputs": [
    {
     "name": "stdout",
     "output_type": "stream",
     "text": [
      "string en minúsculas\n"
     ]
    }
   ],
   "source": [
    "print(string_ejemplo.replace(\"minusculas\", \"minúsculas\"))"
   ]
  },
  {
   "cell_type": "code",
   "execution_count": 74,
   "metadata": {},
   "outputs": [
    {
     "name": "stdout",
     "output_type": "stream",
     "text": [
      "tring en minucula\n"
     ]
    }
   ],
   "source": [
    "print(string_ejemplo.replace(\"s\", \"\"))"
   ]
  },
  {
   "cell_type": "code",
   "execution_count": 78,
   "metadata": {},
   "outputs": [
    {
     "name": "stdout",
     "output_type": "stream",
     "text": [
      "['Esto', 'se', 'va', 'a', 'convertir', 'en', 'una', 'lista', 'de', 'string']\n"
     ]
    }
   ],
   "source": [
    "#Convertir string en lista\n",
    "\n",
    "print(\"Esto se va a convertir en una lista de string\".split(\" \"))"
   ]
  },
  {
   "cell_type": "code",
   "execution_count": 79,
   "metadata": {},
   "outputs": [
    {
     "name": "stdout",
     "output_type": "stream",
     "text": [
      "['Esto se va a ', ' en una lista de string']\n"
     ]
    }
   ],
   "source": [
    "print(\"Esto se va a convertir en una lista de string\".split(\"convertir\"))"
   ]
  },
  {
   "cell_type": "code",
   "execution_count": 80,
   "metadata": {},
   "outputs": [
    {
     "name": "stdout",
     "output_type": "stream",
     "text": [
      "10\n"
     ]
    }
   ],
   "source": [
    "#Metodo para conocer la posición dentro de un string\n",
    "print(string_ejemplo.index(\"m\"))"
   ]
  },
  {
   "cell_type": "code",
   "execution_count": null,
   "metadata": {},
   "outputs": [
    {
     "name": "stdout",
     "output_type": "stream",
     "text": [
      "[3, 4, 5, 6]\n"
     ]
    }
   ],
   "source": [
    "#Agregar elementos a una lista\n",
    "lista_11 = [3,4,5]\n",
    "lista_11.append(6)\n",
    "print(lista_11)"
   ]
  },
  {
   "cell_type": "markdown",
   "metadata": {},
   "source": []
  }
 ],
 "metadata": {
  "kernelspec": {
   "display_name": "Python 3",
   "language": "python",
   "name": "python3"
  },
  "language_info": {
   "codemirror_mode": {
    "name": "ipython",
    "version": 3
   },
   "file_extension": ".py",
   "mimetype": "text/x-python",
   "name": "python",
   "nbconvert_exporter": "python",
   "pygments_lexer": "ipython3",
   "version": "3.13.0"
  }
 },
 "nbformat": 4,
 "nbformat_minor": 2
}
